{
 "cells": [
  {
   "cell_type": "code",
   "execution_count": 4,
   "metadata": {},
   "outputs": [],
   "source": [
    "from collections import Counter\n",
    "import matplotlib.pyplot as plt"
   ]
  },
  {
   "cell_type": "code",
   "execution_count": 5,
   "metadata": {},
   "outputs": [
    {
     "name": "stdout",
     "output_type": "stream",
     "text": [
      "23283\n",
      "{'pdb': 'pdb_00001a4d', 'size': 6, 'rmsd': 1.44, 'rmsdsize': 0.24, 'resrmsd': 2.295, 'matchmask': 'M111111', 'rs': ['1.A.C.71.', '1.A.G.72.', '1.B.A.101.', '1.B.G.102.', '1.B.U.103.', '1.B.G.105.'], 'bs': ['C', 'G', 'A', 'G', 'U', 'G'], 'crystalcontacts': 'M000000', 'seqdists': [1, 0, 1, 1, 2], 'rels': ['LC', 'SM', 'SM', 'SM', 'LC'], 'elems': ['S', 'IC', 'IC', 'IC', 'IC', 'S'], 'loopseq': '-', 'looplen': 0, 'confs': [\"anti,~C3'-endo\", \"anti,~C3'-endo\", \"anti,~C3'-endo\", \"anti,~C3'-endo\", \"anti,~C3'-endo\", \"anti,~C3'-endo\"], 'bp25': '-', 'bp16': 'C-G,cWW', 'inters': ['-,-', 'basepair,-', 'basepair,stack', 'basepair,-', 'basepair,-', '-,stack'], 'ut': 0, 'rfam': '-', 'bgsu': 'NR_all_66286.1'}\n"
     ]
    }
   ],
   "source": [
    "\n",
    "hits = []\n",
    "\n",
    "with open('nr_hits.tsv') as inp:\n",
    "    for line in inp:\n",
    "        \n",
    "        \n",
    "        ls = line.strip().split()\n",
    "        \n",
    "        hit = {'pdb':ls[0],\n",
    "               'size':int(ls[1]),\n",
    "               'rmsd':float(ls[2]),\n",
    "               'rmsdsize':float(ls[3]),\n",
    "               'resrmsd':float(ls[4]),\n",
    "               'matchmask':ls[5],\n",
    "               'rs':ls[6:12],\n",
    "               'bs':ls[12:18],\n",
    "               'crystalcontacts':ls[18],\n",
    "               'seqdists':[int(x) for x in ls[19:24]],\n",
    "               'rels':ls[24:29],\n",
    "               'elems':ls[29:35],\n",
    "               'loopseq':ls[35],\n",
    "               'looplen':int(ls[36]),\n",
    "               'confs':ls[37:43],\n",
    "               'bp25':ls[43],\n",
    "               'bp16':ls[44],\n",
    "               'inters':ls[45:51],\n",
    "               'ut':int(ls[51]),\n",
    "               'rfam':ls[52],\n",
    "               'bgsu':ls[53]}\n",
    "        hits.append(hit)\n",
    "print(len(hits))\n",
    "print(hits[0])\n"
   ]
  },
  {
   "cell_type": "code",
   "execution_count": 6,
   "metadata": {},
   "outputs": [
    {
     "data": {
      "text/plain": [
       "3122"
      ]
     },
     "execution_count": 6,
     "metadata": {},
     "output_type": "execute_result"
    }
   ],
   "source": [
    "len(set([h['pdb'] for h in hits]))"
   ]
  },
  {
   "cell_type": "code",
   "execution_count": 8,
   "metadata": {},
   "outputs": [
    {
     "name": "stdout",
     "output_type": "stream",
     "text": [
      "88\n",
      "3 38\n",
      "4 26\n",
      "5 52\n",
      "6 70\n"
     ]
    }
   ],
   "source": [
    "print(len(set([h['rfam'] for h in hits])))\n",
    "for size in range(3,7):\n",
    "    print(size, len(set([h['rfam'] for h in hits if h['size']==size])))"
   ]
  },
  {
   "cell_type": "code",
   "execution_count": 9,
   "metadata": {},
   "outputs": [
    {
     "name": "stdout",
     "output_type": "stream",
     "text": [
      "1063\n",
      "3 321\n",
      "4 228\n",
      "5 622\n",
      "6 679\n"
     ]
    }
   ],
   "source": [
    "print(len(set([h['bgsu'] for h in hits])))\n",
    "for size in range(3,7):\n",
    "    print(size, len(set([h['bgsu'] for h in hits if h['size']==size])))"
   ]
  },
  {
   "cell_type": "code",
   "execution_count": 11,
   "metadata": {},
   "outputs": [
    {
     "data": {
      "text/plain": [
       "Counter({('C', 'U', 'G', 'A', '-', 'DC'): 1,\n",
       "         ('DA', '-', 'DG', 'DG', 'DG', 'DG'): 1,\n",
       "         ('DC', 'DG', 'DT', 'DA', 'DA', 'DG'): 1,\n",
       "         ('DC', 'DA', 'DC', 'DA', '-', 'DG'): 4,\n",
       "         ('C', 'G', 'DG', 'DT', 'DA', 'DG'): 1,\n",
       "         ('DC', 'DG', 'DC', 'DG', 'DG', 'DC'): 1,\n",
       "         ('DC', '-', 'DA', 'DG', 'DG', 'DA'): 1,\n",
       "         ('DT', 'DG', 'DC', 'DA', 'DG', 'DA'): 1,\n",
       "         ('DA', 'DT', 'DA', 'DA', 'DA', 'DA'): 1,\n",
       "         ('DC', 'DT', 'DA', 'DA', 'DG', 'DA'): 1,\n",
       "         ('DA', 'DG', 'DT', 'DG', 'DG', '-'): 1,\n",
       "         ('U', 'G', 'A', 'A', 'A', 'DG'): 2,\n",
       "         ('C', 'G', 'DA', '-', 'A', 'G'): 1,\n",
       "         ('-', 'DA', 'DG', 'DG', 'DG', '-'): 2,\n",
       "         ('DT', '-', 'DT', 'DG', 'DA', 'DA'): 1,\n",
       "         ('-', 'DT', 'DA', 'DA', 'DG', '-'): 1,\n",
       "         ('-', 'DA', 'DG', 'DA', 'DT', '-'): 1})"
      ]
     },
     "execution_count": 11,
     "metadata": {},
     "output_type": "execute_result"
    }
   ],
   "source": [
    "Counter([tuple(h['bs']) for h in hits if any(x in h['bs'] for x in ('DG','DA','DT','DU','DC'))])"
   ]
  },
  {
   "cell_type": "code",
   "execution_count": 12,
   "metadata": {},
   "outputs": [
    {
     "name": "stdout",
     "output_type": "stream",
     "text": [
      "3 2569\n",
      "4 1388\n",
      "5 8432\n",
      "6 10894\n"
     ]
    }
   ],
   "source": [
    "for size in range(3,7):\n",
    "    print(size, len([1 for h in hits if h['size']==size]))"
   ]
  },
  {
   "cell_type": "code",
   "execution_count": 19,
   "metadata": {},
   "outputs": [
    {
     "name": "stdout",
     "output_type": "stream",
     "text": [
      "844\n",
      "('PSU', 'U', 'G', 'A', 'A', '-') 86\n",
      "('5MC', 'U', 'C', 'A', 'U', '-') 47\n",
      "('OMC', 'U', 'C', 'A', 'U', '-') 45\n",
      "('PSU', 'G', 'C', 'A', 'A', 'G') 38\n",
      "('G', '2MG', 'G', 'MA6', 'MA6', 'C') 33\n",
      "('U', 'U', 'U', 'G', '6MZ', '-') 31\n",
      "('C', 'G', 'G', 'MA6', 'MA6', 'G') 29\n",
      "('OMC', 'U', 'OMG', 'A', 'A', '-') 26\n",
      "('U', 'G', '-', '7MG', 'A', 'A') 22\n",
      "('C', 'G', 'C', 'A2M', '-', 'G') 22\n",
      "('A2M', 'G', 'A', 'A', 'A', 'U') 22\n",
      "('C', 'G', 'C', 'A2M', 'A', 'G') 20\n",
      "('C', '-', 'G', 'G', 'A', 'OMG') 17\n",
      "('G', 'G', 'G', 'MA6', 'MA6', 'C') 17\n",
      "('G', '-', 'G', 'MA6', 'MA6', 'C') 13\n",
      "('G', 'U', 'A', 'A2M', 'U', 'C') 13\n",
      "('U', 'G', 'A', 'A', 'A2M', '-') 12\n",
      "('U', 'G', 'G', 'MA6', 'MA6', 'A') 10\n",
      "('C', 'G', 'C', 'A', 'A', 'OMG') 10\n",
      "('G', 'U', 'G', 'MA6', 'MA6', 'C') 10\n",
      "('A', '-', 'A', 'A', 'U', 'PSU') 10\n",
      "('G', 'G', 'UR3', 'A', 'A', 'C') 9\n",
      "('C', 'A', 'G', 'C', 'C', '7MG') 8\n",
      "('C', 'G', 'U', 'A', 'A', 'OMG') 8\n",
      "('A', 'G', 'A', 'A', 'A', 'PSU') 8\n",
      "('A', '-', 'G', 'OMG', 'C', 'G') 7\n",
      "('4AC', 'G', 'A', 'A', 'A', 'G') 7\n",
      "('U', 'G', 'A', 'A', 'G', 'A2M') 7\n",
      "('-', 'U', 'A', 'A', 'A2M', '-') 7\n",
      "('U', '-', 'U', 'G', 'G', 'OMC') 6\n",
      "('A2M', 'G', 'A', 'A', 'A', 'PSU') 6\n",
      "('C', 'G', 'OMC', '-', 'A', 'G') 6\n",
      "('-', 'U', 'A', 'A2M', '-', '-') 6\n",
      "('-', 'G', 'A', 'A', 'A2M', '-') 5\n",
      "('PSU', 'U', 'A', 'A', '-', 'U') 5\n",
      "('U', 'OMU', 'OMG', 'PSU', '-', 'A') 5\n",
      "('U', 'OMU', 'OMG', 'U', '-', 'A') 5\n",
      "('DC', 'DA', 'DC', 'DA', '-', 'DG') 4\n",
      "('C', '-', 'G', 'C', 'C', '7MG') 4\n",
      "('C', '-', 'C', '6MZ', 'A', 'G') 4\n",
      "('G', 'G', 'U', 'A', 'A', 'OMU') 4\n",
      "('G', '-', 'G', 'A', 'MA6', 'C') 4\n",
      "('C', '2MG', 'G', 'MA6', 'MA6', 'G') 4\n",
      "('C', 'G', 'A', '-', 'A', 'OMU') 4\n",
      "('U', 'G', 'A2M', 'A', 'A', 'A') 4\n",
      "('C', 'G', 'PSU', 'G', 'A', 'G') 4\n",
      "('C', 'G', 'C', '-', 'A2M', 'OMG') 4\n",
      "('-', 'U', 'G', 'A', 'PSU', '-') 4\n",
      "('U', 'U', 'A', 'A2M', 'A', '-') 4\n",
      "('PSU', 'U', 'G', 'U', 'C', '-') 3\n",
      "('C', '-', 'G', 'MA6', 'MA6', 'G') 3\n",
      "('5MC', 'G', 'A', 'A', 'G', 'G') 3\n",
      "('4AC', 'G', 'U', 'G', 'A', 'G') 3\n",
      "('C', 'G', 'A', 'A2M', '-', 'G') 3\n",
      "('4AC', 'G', 'C', 'A', 'A', 'G') 3\n",
      "('C', 'G', 'A', 'A2M', 'A', 'G') 3\n",
      "('OMC', 'G', 'A', 'G', 'A', 'G') 3\n",
      "('PSU', 'G', 'A', 'A', 'A', 'G') 3\n",
      "('A', 'G', 'C', 'G', 'A', 'PSU') 3\n",
      "('A2M', 'G', '-', 'A', 'A', 'U') 3\n",
      "('-', 'PSU', 'A', 'A', 'A2M', '-') 3\n",
      "('G', 'A', 'G', 'MA6', 'MA6', 'C') 3\n",
      "('U', 'OMU', 'OMG', 'U', '-', 'G') 2\n",
      "('G', 'U', 'G', 'A', 'MA6', 'C') 2\n",
      "('C', 'A', '-', 'C', 'C', '7MG') 2\n",
      "('4AC', 'G', 'C', 'A', 'A', 'OMG') 2\n",
      "('OMG', 'G', 'A', 'A', 'A', 'C') 2\n",
      "('A', 'G', 'U', 'G', 'A', 'PSU') 2\n",
      "('U', 'G', 'A', 'A', 'A', 'DG') 2\n",
      "('-', 'DA', 'DG', 'DG', 'DG', '-') 2\n",
      "('5MU', 'U', 'A', 'G', 'A', '-') 2\n",
      "('OMC', 'U', 'OMU', 'A', 'C', '-') 2\n",
      "('U', 'PSU', 'G', 'G', '-', 'U') 2\n",
      "('U', 'G', 'A', '-', 'A', 'OMU') 2\n",
      "('PSU', 'G', 'A', 'A', 'A', 'C') 2\n",
      "('-', 'G', '-', 'A', 'A2M', '-') 2\n",
      "('-', 'G', 'OMG', '-', 'G', '-') 2\n",
      "('A', '-', '1MA', 'G', 'G', 'U') 1\n",
      "('C', 'U', 'G', 'A', '-', 'DC') 1\n",
      "('DA', '-', 'DG', 'DG', 'DG', 'DG') 1\n",
      "('DC', 'DG', 'DT', 'DA', 'DA', 'DG') 1\n",
      "('OMC', 'U', 'G', 'A', 'A', '-') 1\n",
      "('-', 'U', 'U', 'G', '6MZ', '-') 1\n",
      "('C', 'G', 'A', 'OMG', '-', 'G') 1\n",
      "('C', 'G', 'DG', 'DT', 'DA', 'DG') 1\n",
      "('OMC', 'A', 'C', 'A', 'U', '-') 1\n",
      "('U', 'G', 'A', 'A2M', 'A', '-') 1\n",
      "('G', '-', 'A', 'A2M', 'U', 'C') 1\n",
      "('C', 'G', 'U', 'G', 'A2M', 'G') 1\n",
      "('5MU', 'G', 'U', 'A', 'A', 'G') 1\n",
      "('4AC', 'G', 'U', 'G', 'A2M', 'G') 1\n",
      "('OMG', 'G', 'C', 'A', 'A', 'C') 1\n",
      "('OMC', 'G', 'A', 'U', 'A', 'G') 1\n",
      "('OMU', 'G', 'A', 'A', 'A', 'G') 1\n",
      "('C', 'G', 'G', 'OMU', 'A', 'G') 1\n",
      "('-', 'G', 'U', 'G', 'A', 'OMG') 1\n",
      "('5MU', 'G', 'A', 'A', 'A', '-') 1\n",
      "('C', 'G', '-', '5MC', 'A', 'G') 1\n",
      "('4AC', 'G', '-', 'G', 'A', 'G') 1\n",
      "('OMC', 'G', '-', 'A', 'A', 'G') 1\n",
      "('OMU', 'G', 'U', 'G', 'A', 'G') 1\n",
      "('5MC', 'G', 'A', 'A2M', '-', 'G') 1\n",
      "('5MC', 'G', '-', '5MC', 'A', 'G') 1\n",
      "('G', '-', 'OMG', 'G', 'C', 'C') 1\n",
      "('C', 'G', '-', 'A', 'U', 'OMG') 1\n",
      "('4AC', 'G', 'A', 'G', 'A', 'G') 1\n",
      "('C', 'G', 'A', 'A', 'A', 'OMG') 1\n",
      "('-', 'G', 'U', 'G', 'A2M', 'G') 1\n",
      "('C', 'G', '-', 'A2M', 'A', 'OMG') 1\n",
      "('OMU', 'G', 'A', 'G', 'A', '-') 1\n",
      "('C', 'A', '-', 'OMC', 'C', 'G') 1\n",
      "('A2M', 'G', 'A', 'G', 'A', 'OMU') 1\n",
      "('A', 'A', 'A', 'A', 'C', 'PSU') 1\n",
      "('C', 'G', 'C', 'A2M', 'A', 'OMG') 1\n",
      "('U', 'G', 'OMC', 'A', 'A', '-') 1\n",
      "('PSU', '-', 'A', 'G', 'G', 'G') 1\n",
      "('OMU', '-', 'A', 'A', 'C', 'U') 1\n",
      "('U', 'G', 'G', '-', 'A', 'OMU') 1\n",
      "('C', 'G', '-', 'A', 'A2M', 'G') 1\n",
      "('DC', 'DG', 'DC', 'DG', 'DG', 'DC') 1\n",
      "('DC', '-', 'DA', 'DG', 'DG', 'DA') 1\n",
      "('DT', 'DG', 'DC', 'DA', 'DG', 'DA') 1\n",
      "('DA', 'DT', 'DA', 'DA', 'DA', 'DA') 1\n",
      "('DC', 'DT', 'DA', 'DA', 'DG', 'DA') 1\n",
      "('DA', 'DG', 'DT', 'DG', 'DG', '-') 1\n",
      "('OMC', '-', 'A', 'C', 'C', 'G') 1\n",
      "('C', 'G', 'DA', '-', 'A', 'G') 1\n",
      "('-', '2MG', 'G', 'MA6', 'MA6', '-') 1\n",
      "('DT', '-', 'DT', 'DG', 'DA', 'DA') 1\n",
      "('PSU', 'G', 'C', 'A', 'A', '-') 1\n",
      "('5MU', 'G', '-', 'A', 'G', 'G') 1\n",
      "('C', 'G', 'G', 'A2M', 'A', 'G') 1\n",
      "('C', 'G', 'C', 'G', 'A', 'OMG') 1\n",
      "('C', 'U', '4AC', 'A', 'U', '-') 1\n",
      "('PSU', 'U', 'A', 'A', 'PSU', '-') 1\n",
      "('OMU', '-', 'A', 'G', 'U', 'PSU') 1\n",
      "('-', 'DT', 'DA', 'DA', 'DG', '-') 1\n",
      "('U', 'G', 'A', 'A2M', 'A', 'A') 1\n",
      "('-', 'DA', 'DG', 'DA', 'DT', '-') 1\n",
      "('G', 'PSU', 'G', 'MA6', 'MA6', 'C') 1\n",
      "('PSU', 'G', 'A', 'G', 'A', 'G') 1\n",
      "('OMU', '-', 'A', 'G', 'PSU', 'U') 1\n",
      "('A', '-', 'C', 'OMU', 'A', 'U') 1\n",
      "('C', 'U', 'OMG', 'A', 'A', '-') 1\n",
      "('U', 'OMU', 'OMG', 'U', 'C', 'A') 1\n",
      "('-', 'U', 'G', '1MA', '-', '-') 1\n",
      "('-', 'G', 'A', '-', 'A2M', '-') 1\n",
      "('-', 'PSU', 'A', 'A', '-', '-') 1\n",
      "('U', 'A', 'A', 'G', 'U', 'PSU') 1\n",
      "('-', 'G', 'G', 'MA6', 'MA6', '-') 1\n",
      "('-', 'G', 'G', 'MA6', 'MA6', 'A') 1\n",
      "('C', '-', 'G', 'U', 'C', '7MG') 1\n",
      "('-', 'U', 'A', 'A2M', 'A', '-') 1\n",
      "('C', 'OMG', 'C', 'G', '-', 'G') 1\n",
      "('C', 'G', 'U', 'PSU', 'A', 'G') 1\n",
      "('C', '-', 'A', 'G', 'A', 'OMC') 1\n",
      "('PSU', 'G', 'A', 'A', 'A', 'A') 1\n",
      "('C', '-', 'A', 'C', 'PSU', 'G') 1\n",
      "('PSU', '-', 'A', 'A', 'A', 'A') 1\n",
      "('C', 'C', 'G', 'G', 'A', 'OMG') 1\n",
      "('C', 'OMU', 'OMG', 'C', 'C', '-') 1\n",
      "('PSU', 'G', '-', 'A', 'A2M', 'G') 1\n",
      "('OMC', 'G', 'U', 'G', 'A', 'G') 1\n",
      "('G', 'U', 'A', 'A2M', '-', 'C') 1\n",
      "('G', '2MG', 'G', 'A', 'A', 'C') 1\n",
      "('-', '2MG', '-', 'MA6', 'MA6', '-') 1\n",
      "7MG 37\n",
      "4AC 19\n",
      "PSU 199\n",
      "5MU 5\n",
      "A2M 162\n",
      "UR3 9\n",
      "OMG 104\n",
      "OMU 36\n",
      "1MA 2\n",
      "2MG 40\n",
      "MA6 133\n",
      "5MC 53\n",
      "6MZ 36\n",
      "OMC 97\n"
     ]
    }
   ],
   "source": [
    "cnt = Counter([tuple(h['bs']) for h in hits if any(x not in {'A','C','G','U','-'} for x in h['bs'])])\n",
    "print(sum(cnt.values()))\n",
    "for k in sorted(cnt.keys(),key = lambda x: cnt[x],reverse = True):\n",
    "    print(k,cnt[k])\n",
    "unique = set(x for k in cnt for x in k) - {'A','C','G','U','-','DC','DU','DT','DA','DG'}\n",
    "for x in unique:\n",
    "    print(x,sum(1 for h in hits if x in h['bs']))"
   ]
  },
  {
   "cell_type": "code",
   "execution_count": 20,
   "metadata": {},
   "outputs": [
    {
     "name": "stdout",
     "output_type": "stream",
     "text": [
      "n1 4068\n",
      "n2 2393\n",
      "n3 2879\n",
      "n4 521\n",
      "n5 3038\n",
      "n6 6016\n"
     ]
    }
   ],
   "source": [
    "for i in range(6):\n",
    "    print('n'+str(i+1), sum(1 for h in hits if h['bs'][i]=='-'))"
   ]
  },
  {
   "cell_type": "code",
   "execution_count": 21,
   "metadata": {},
   "outputs": [
    {
     "data": {
      "text/plain": [
       "Counter({'M111111': 10894,\n",
       "         'M101111': 2393,\n",
       "         'M011110': 1388,\n",
       "         'M111110': 2059,\n",
       "         'M011100': 2167,\n",
       "         'M110111': 2653,\n",
       "         'M111101': 871,\n",
       "         'M111011': 345,\n",
       "         'M010110': 226,\n",
       "         'M011010': 176,\n",
       "         'M011111': 111})"
      ]
     },
     "execution_count": 21,
     "metadata": {},
     "output_type": "execute_result"
    }
   ],
   "source": [
    "Counter([h['matchmask'] for h in hits])"
   ]
  },
  {
   "cell_type": "code",
   "execution_count": 23,
   "metadata": {},
   "outputs": [
    {
     "name": "stdout",
     "output_type": "stream",
     "text": [
      "n1 A 0.06411657559198543\n",
      "n1 C 0.47754358574030703\n",
      "n1 G 0.15347384855581578\n",
      "n1 U 0.28639084048920116\n",
      "n2 A 0.030493058879846817\n",
      "n2 C 0.01881282910483485\n",
      "n2 G 0.7202010531354716\n",
      "n2 U 0.22685495452369556\n",
      "n3 A 0.5745442070182317\n",
      "n3 C 0.13938443442462262\n",
      "n3 G 0.17717114291315428\n",
      "n3 U 0.10444030582238777\n",
      "n4 A 0.6526667252438274\n",
      "n4 C 0.05078639838327036\n",
      "n4 G 0.2504612951410245\n",
      "n4 U 0.03417977330638784\n",
      "n5 A 0.7777722894541862\n",
      "n5 C 0.07700666831316375\n",
      "n5 G 0.06613978760187701\n",
      "n5 U 0.06796739935786614\n",
      "n6 A 0.12654195864944692\n",
      "n6 C 0.16279608501766374\n",
      "n6 G 0.5933862280650952\n",
      "n6 U 0.10934151850350379\n"
     ]
    }
   ],
   "source": [
    "for i in range(6):\n",
    "    for b in 'ACGU':\n",
    "        print('n'+str(i+1),b, sum(1 for h in hits if h['bs'][i]==b) / sum(1 for h in hits if h['bs'][i]!='-'))"
   ]
  },
  {
   "cell_type": "code",
   "execution_count": null,
   "metadata": {},
   "outputs": [],
   "source": [
    "n1 C 0.47 n1 U 0.28\n",
    "n2 G 0.72 n2 U 0.22\n",
    "n3 A 0.57\n",
    "n4 A 0.65 n4 G 0.25\n",
    "n5 A 0.78\n",
    "n6 G 0.59"
   ]
  },
  {
   "cell_type": "code",
   "execution_count": 30,
   "metadata": {},
   "outputs": [
    {
     "name": "stdout",
     "output_type": "stream",
     "text": [
      "C-G,cWW 8096\n",
      "- 6781\n",
      "G-C,cWW 2581\n",
      "U-G,cWW 1600\n",
      "U-A,cWW 1423\n",
      "A-U,cWW 1027\n",
      "U-U,cWW 558\n",
      "U-A,tWH 438\n"
     ]
    }
   ],
   "source": [
    "cnt = Counter([(h['bp16']) for h in hits])\n",
    "for k in sorted(cnt.keys(),key = lambda x: cnt[x],reverse = True):\n",
    "    if cnt[k] >= 100:\n",
    "        print(k,cnt[k])"
   ]
  },
  {
   "cell_type": "code",
   "execution_count": 35,
   "metadata": {},
   "outputs": [
    {
     "name": "stdout",
     "output_type": "stream",
     "text": [
      "-,- 9931\n",
      "basepair,- 9489\n",
      "-,stack 2568\n",
      "basepair,stack 1295\n"
     ]
    }
   ],
   "source": [
    "cnt = Counter([(h['inters'][3]) for h in hits])\n",
    "for k in sorted(cnt.keys(),key = lambda x: cnt[x],reverse = True):\n",
    "    if cnt[k] >= 100:\n",
    "        print(k,cnt[k])"
   ]
  },
  {
   "cell_type": "code",
   "execution_count": null,
   "metadata": {},
   "outputs": [],
   "source": []
  },
  {
   "cell_type": "code",
   "execution_count": null,
   "metadata": {},
   "outputs": [],
   "source": []
  },
  {
   "cell_type": "code",
   "execution_count": null,
   "metadata": {},
   "outputs": [],
   "source": []
  },
  {
   "cell_type": "code",
   "execution_count": null,
   "metadata": {},
   "outputs": [],
   "source": []
  },
  {
   "cell_type": "code",
   "execution_count": null,
   "metadata": {},
   "outputs": [],
   "source": []
  }
 ],
 "metadata": {
  "kernelspec": {
   "display_name": "Python 3 (ipykernel)",
   "language": "python",
   "name": "python3"
  },
  "language_info": {
   "codemirror_mode": {
    "name": "ipython",
    "version": 3
   },
   "file_extension": ".py",
   "mimetype": "text/x-python",
   "name": "python",
   "nbconvert_exporter": "python",
   "pygments_lexer": "ipython3",
   "version": "3.8.10"
  }
 },
 "nbformat": 4,
 "nbformat_minor": 4
}
